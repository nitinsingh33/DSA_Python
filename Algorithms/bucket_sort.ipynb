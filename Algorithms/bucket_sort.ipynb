{
 "cells": [
  {
   "cell_type": "markdown",
   "metadata": {},
   "source": [
    "Bucket sort algorithm divides the unsorted array into several groups termed buckets.\n",
    "Each buckets sorted by using any of the suitable algorithms or recursively applying the same bucket algorithm."
   ]
  },
  {
   "cell_type": "markdown",
   "metadata": {},
   "source": [
    "Range of each bucket = (max - min)/n : n is number of buckets\n",
    "            Range = (47-9)/5 = 7.6 ~ 8"
   ]
  },
  {
   "cell_type": "code",
   "execution_count": 6,
   "metadata": {},
   "outputs": [
    {
     "name": "stdout",
     "output_type": "stream",
     "text": [
      "Sorted Array in descending order is\n",
      "[0.32, 0.33, 0.37, 0.42, 0.47, 0.51, 0.52]\n"
     ]
    }
   ],
   "source": [
    "# Bucket Sort in Python\n",
    "\n",
    "def bucketSort(array):\n",
    "    bucket = []\n",
    "\n",
    "    # Create empty buckets\n",
    "    for i in range(len(array)):\n",
    "        bucket.append([])\n",
    "\n",
    "    # Insert elements into their respective buckets\n",
    "    for j in array:\n",
    "        index_b = int(10 * j)\n",
    "        bucket[index_b].append(j)\n",
    "\n",
    "    # Sort the elements of each bucket\n",
    "    for i in range(len(array)):\n",
    "        bucket[i] = sorted(bucket[i])\n",
    "\n",
    "    # Get the sorted elements\n",
    "    k = 0\n",
    "    for i in range(len(array)):\n",
    "        for j in range(len(bucket[i])):\n",
    "            array[k] = bucket[i][j]\n",
    "            k += 1\n",
    "    return array\n",
    "\n",
    "\n",
    "array = [.42, .32, .33, .52, .37, .47, .51]\n",
    "print(\"Sorted Array in descending order is\")\n",
    "print(bucketSort(array))"
   ]
  }
 ],
 "metadata": {
  "kernelspec": {
   "display_name": "Python 3",
   "language": "python",
   "name": "python3"
  },
  "language_info": {
   "codemirror_mode": {
    "name": "ipython",
    "version": 3
   },
   "file_extension": ".py",
   "mimetype": "text/x-python",
   "name": "python",
   "nbconvert_exporter": "python",
   "pygments_lexer": "ipython3",
   "version": "3.12.6"
  }
 },
 "nbformat": 4,
 "nbformat_minor": 2
}
