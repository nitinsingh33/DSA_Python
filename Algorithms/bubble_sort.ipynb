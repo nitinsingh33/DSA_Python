{
 "cells": [
  {
   "cell_type": "markdown",
   "metadata": {},
   "source": [
    "Bubble sort is a sorting algorithm that compares two adjacent elements and swaps them until they are in the intended order.\n",
    "\n",
    "Just like movement of air bubbles in the water that rise up to the surface     \n",
    "                                                      ~Programiz"
   ]
  },
  {
   "cell_type": "code",
   "execution_count": 4,
   "metadata": {},
   "outputs": [
    {
     "name": "stdout",
     "output_type": "stream",
     "text": [
      "Sorted Array in Ascending Order:\n",
      "[-9, -2, 0, 11, 45]\n"
     ]
    }
   ],
   "source": [
    "# Bubble sort in Python\n",
    "\n",
    "def bubbleSort(array):\n",
    "    \n",
    "  # loop to access each array element\n",
    "  for i in range(len(array)):\n",
    "\n",
    "    # loop to compare array elements\n",
    "    for j in range(0, len(array) - i - 1):\n",
    "\n",
    "      # compare two adjacent elements\n",
    "      # change > to < to sort in descending order\n",
    "      if array[j] > array[j + 1]:\n",
    "\n",
    "        # swapping elements if elements\n",
    "        # are not in the intended order\n",
    "        temp = array[j]\n",
    "        array[j] = array[j+1]\n",
    "        array[j+1] = temp\n",
    "\n",
    "\n",
    "data = [-2, 45, 0, 11, -9]\n",
    "\n",
    "bubbleSort(data)\n",
    "\n",
    "print('Sorted Array in Ascending Order:')\n",
    "print(data)"
   ]
  }
 ],
 "metadata": {
  "kernelspec": {
   "display_name": "Python 3",
   "language": "python",
   "name": "python3"
  },
  "language_info": {
   "codemirror_mode": {
    "name": "ipython",
    "version": 3
   },
   "file_extension": ".py",
   "mimetype": "text/x-python",
   "name": "python",
   "nbconvert_exporter": "python",
   "pygments_lexer": "ipython3",
   "version": "3.12.6"
  }
 },
 "nbformat": 4,
 "nbformat_minor": 2
}
